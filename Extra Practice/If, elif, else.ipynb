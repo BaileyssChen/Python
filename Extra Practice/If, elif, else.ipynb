{
 "cells": [
  {
   "cell_type": "code",
   "execution_count": 1,
   "metadata": {},
   "outputs": [
    {
     "name": "stdout",
     "output_type": "stream",
     "text": [
      "Help on method raw_input in module ipykernel.kernelbase:\n",
      "\n",
      "raw_input(prompt='') method of ipykernel.ipkernel.IPythonKernel instance\n",
      "    Forward raw_input to frontends\n",
      "    \n",
      "    Raises\n",
      "    ------\n",
      "    StdinNotImplentedError if active frontend doesn't support stdin.\n",
      "\n"
     ]
    }
   ],
   "source": [
    "## User Input-- Input Function\n",
    "\n",
    "help(input)"
   ]
  },
  {
   "cell_type": "code",
   "execution_count": 2,
   "metadata": {},
   "outputs": [
    {
     "name": "stdout",
     "output_type": "stream",
     "text": [
      "messagehow old are you?\n"
     ]
    },
    {
     "data": {
      "text/plain": [
       "'how old are you?'"
      ]
     },
     "execution_count": 2,
     "metadata": {},
     "output_type": "execute_result"
    }
   ],
   "source": [
    "input('message')"
   ]
  },
  {
   "cell_type": "code",
   "execution_count": 5,
   "metadata": {},
   "outputs": [
    {
     "name": "stdout",
     "output_type": "stream",
     "text": [
      "how old are you? 10\n"
     ]
    }
   ],
   "source": [
    "age=input('how old are you?')"
   ]
  },
  {
   "cell_type": "code",
   "execution_count": 6,
   "metadata": {},
   "outputs": [
    {
     "name": "stdout",
     "output_type": "stream",
     "text": [
      "you are 10 years old\n"
     ]
    }
   ],
   "source": [
    "print(f'you are{age} years old')"
   ]
  },
  {
   "cell_type": "code",
   "execution_count": 7,
   "metadata": {},
   "outputs": [],
   "source": [
    "#we ask the user for the base and height of a triangle \n",
    "#and print out the area of the triangle.\n",
    "\n",
    "##float()-> float function o change string into number"
   ]
  },
  {
   "cell_type": "code",
   "execution_count": 15,
   "metadata": {},
   "outputs": [
    {
     "name": "stdout",
     "output_type": "stream",
     "text": [
      "base of a triangle3\n",
      "height of a triangle6\n",
      "b and h are of type: <class 'str'>, <class 'str'>\n"
     ]
    }
   ],
   "source": [
    "b = input('base of a triangle')\n",
    "h = input('height of a triangle')\n",
    "print(f'b and h are of type: {type(b)}, {type(h)}')"
   ]
  },
  {
   "cell_type": "code",
   "execution_count": 26,
   "metadata": {},
   "outputs": [
    {
     "name": "stdout",
     "output_type": "stream",
     "text": [
      "base of a triangle: 6\n",
      "height of a triangle: 10\n"
     ]
    }
   ],
   "source": [
    "b = input('base of a triangle: ')\n",
    "h = input('height of a triangle: ')"
   ]
  },
  {
   "cell_type": "code",
   "execution_count": 32,
   "metadata": {},
   "outputs": [
    {
     "name": "stdout",
     "output_type": "stream",
     "text": [
      "Area of triangle is :30.0\n"
     ]
    }
   ],
   "source": [
    "A = 1/2*float(b)*float(h)\n",
    "print(f'Area of triangle is :{A}')"
   ]
  },
  {
   "cell_type": "code",
   "execution_count": 34,
   "metadata": {},
   "outputs": [
    {
     "name": "stdout",
     "output_type": "stream",
     "text": [
      "less than 5\n"
     ]
    }
   ],
   "source": [
    "# if Statement  #Multiple if statements\n",
    "a=2\n",
    "if a<5:\n",
    "    print('less than 5')\n",
    "if a==5:\n",
    "    print ('equal 5')\n",
    "if a>5:\n",
    "    print('more than 5')"
   ]
  },
  {
   "cell_type": "code",
   "execution_count": 39,
   "metadata": {},
   "outputs": [
    {
     "name": "stdout",
     "output_type": "stream",
     "text": [
      "a is negative\n",
      "a is zero\n",
      "a is positive\n"
     ]
    }
   ],
   "source": [
    "# pass function\n",
    "\n",
    "a=2\n",
    "if a<0:\n",
    "    pass\n",
    "print('a is negative')\n",
    "if a==0:\n",
    "    pass\n",
    "print('a is zero')\n",
    "if a>0:\n",
    "    pass\n",
    "print('a is positive')\n"
   ]
  },
  {
   "cell_type": "code",
   "execution_count": 42,
   "metadata": {},
   "outputs": [
    {
     "name": "stdout",
     "output_type": "stream",
     "text": [
      "a is greater than 10\n"
     ]
    }
   ],
   "source": [
    "#If Else Statements\n",
    "\n",
    "a=20\n",
    "if a>10:\n",
    "    print('a is greater than 10')\n",
    "else:\n",
    "    print('a is less than 10')"
   ]
  },
  {
   "cell_type": "code",
   "execution_count": 45,
   "metadata": {},
   "outputs": [
    {
     "name": "stdout",
     "output_type": "stream",
     "text": [
      "the color is green\n"
     ]
    }
   ],
   "source": [
    "#elif\n",
    "\n",
    "a='green'\n",
    "if a=='red':\n",
    "    print('a is red')\n",
    "elif a=='green':\n",
    "    print('the color is green')\n",
    "else:\n",
    "    print('the color is not red and not green')"
   ]
  },
  {
   "cell_type": "code",
   "execution_count": 46,
   "metadata": {},
   "outputs": [],
   "source": [
    "##Try-Except Statements\n",
    "#Try-except statements are another selection structure in Python.\n",
    "\n",
    "#Like if, elif and else statements, a try-except statements select a particular block of code to run \n",
    "#based on a condition. \n",
    "\n",
    "#Unlike if, elif and else clauses, try-except blocks are not based on logical conditions. \n",
    "#Try-except blocks are based upon whether a line or section of code returns an error.\n",
    "\n",
    "##A syntax error is a type of error in Python that occur when the syntax in a line of code is not valid Python code.\n",
    "##Exception errors result when a valid line of Python code cannot run. \n",
    "#Lines of code with exception errors contain valid Python code, but the line of code still cannot be executed."
   ]
  },
  {
   "cell_type": "code",
   "execution_count": 47,
   "metadata": {},
   "outputs": [
    {
     "name": "stdout",
     "output_type": "stream",
     "text": [
      "Enter a number: 3\n",
      "5.0\n"
     ]
    }
   ],
   "source": [
    "num = input(\"Enter a number: \")\n",
    "num = float(num)\n",
    "num_plus_2 = num + 2\n",
    "print(num_plus_2)"
   ]
  },
  {
   "cell_type": "code",
   "execution_count": null,
   "metadata": {},
   "outputs": [],
   "source": []
  }
 ],
 "metadata": {
  "kernelspec": {
   "display_name": "Python 3",
   "language": "python",
   "name": "python3"
  },
  "language_info": {
   "codemirror_mode": {
    "name": "ipython",
    "version": 3
   },
   "file_extension": ".py",
   "mimetype": "text/x-python",
   "name": "python",
   "nbconvert_exporter": "python",
   "pygments_lexer": "ipython3",
   "version": "3.8.3"
  }
 },
 "nbformat": 4,
 "nbformat_minor": 4
}
